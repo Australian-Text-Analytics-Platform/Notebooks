{
 "cells": [
  {
   "cell_type": "code",
   "execution_count": null,
   "metadata": {},
   "outputs": [],
   "source": [
    "from app.JuxVisual import *\n",
    "from atap_corpus_slicer import CorpusSlicer\n",
    "from atap_corpus_loader import CorpusLoader\n",
    "hv.extension('bokeh')"
   ]
  },
  {
   "cell_type": "code",
   "execution_count": null,
   "metadata": {},
   "outputs": [],
   "source": [
    "corpora: CorpusLoader = CorpusLoader(root_directory='./', \n",
    "                                     include_meta_loader=True, \n",
    "                                     include_oni_loader=False)\n",
    "\n",
    "slicer: CorpusSlicer = CorpusSlicer(corpus_loader=corpora)\n",
    "slicer"
   ]
  },
  {
   "cell_type": "code",
   "execution_count": null,
   "metadata": {},
   "outputs": [],
   "source": [
    "visualise_jux(corpora)"
   ]
  }
 ],
 "metadata": {
  "kernelspec": {
   "display_name": "Python 3 (ipykernel)",
   "language": "python",
   "name": "python3"
  },
  "language_info": {
   "codemirror_mode": {
    "name": "ipython",
    "version": 3
   },
   "file_extension": ".py",
   "mimetype": "text/x-python",
   "name": "python",
   "nbconvert_exporter": "python",
   "pygments_lexer": "ipython3",
   "version": "3.11.9"
  }
 },
 "nbformat": 4,
 "nbformat_minor": 4
}
